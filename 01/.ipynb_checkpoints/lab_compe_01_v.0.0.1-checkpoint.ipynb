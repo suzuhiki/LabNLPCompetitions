{
 "cells": [
  {
   "cell_type": "code",
   "execution_count": 11,
   "metadata": {},
   "outputs": [
    {
     "name": "stdout",
     "output_type": "stream",
     "text": [
      "Requirement already satisfied: pyproject-toml in /usr/local/lib/python3.10/dist-packages (0.0.10)\n",
      "Requirement already satisfied: wheel in /usr/local/lib/python3.10/dist-packages (from pyproject-toml) (0.38.4)\n",
      "Requirement already satisfied: setuptools>=42 in /usr/local/lib/python3.10/dist-packages (from pyproject-toml) (65.6.3)\n",
      "Requirement already satisfied: jsonschema in /usr/local/lib/python3.10/dist-packages (from pyproject-toml) (4.17.3)\n",
      "Requirement already satisfied: toml in /usr/local/lib/python3.10/dist-packages (from pyproject-toml) (0.10.2)\n",
      "Requirement already satisfied: pyrsistent!=0.17.0,!=0.17.1,!=0.17.2,>=0.14.0 in /usr/local/lib/python3.10/dist-packages (from jsonschema->pyproject-toml) (0.19.2)\n",
      "Requirement already satisfied: attrs>=17.4.0 in /usr/local/lib/python3.10/dist-packages (from jsonschema->pyproject-toml) (22.1.0)\n",
      "\u001b[33mWARNING: Running pip as the 'root' user can result in broken permissions and conflicting behaviour with the system package manager. It is recommended to use a virtual environment instead: https://pip.pypa.io/warnings/venv\u001b[0m\u001b[33m\n",
      "\u001b[0mRequirement already satisfied: sudachipy in /usr/local/lib/python3.10/dist-packages (0.6.6)\n",
      "Requirement already satisfied: sudachidict_core in /usr/local/lib/python3.10/dist-packages (20221021)\n",
      "\u001b[33mWARNING: Running pip as the 'root' user can result in broken permissions and conflicting behaviour with the system package manager. It is recommended to use a virtual environment instead: https://pip.pypa.io/warnings/venv\u001b[0m\u001b[33m\n",
      "\u001b[0mRequirement already satisfied: scikit-learn in /usr/local/lib/python3.10/dist-packages (1.2.0)\n",
      "Requirement already satisfied: scipy>=1.3.2 in /usr/local/lib/python3.10/dist-packages (from scikit-learn) (1.9.3)\n",
      "Requirement already satisfied: numpy>=1.17.3 in /usr/local/lib/python3.10/dist-packages (from scikit-learn) (1.24.0)\n",
      "Requirement already satisfied: joblib>=1.1.1 in /usr/local/lib/python3.10/dist-packages (from scikit-learn) (1.2.0)\n",
      "Requirement already satisfied: threadpoolctl>=2.0.0 in /usr/local/lib/python3.10/dist-packages (from scikit-learn) (3.1.0)\n",
      "\u001b[33mWARNING: Running pip as the 'root' user can result in broken permissions and conflicting behaviour with the system package manager. It is recommended to use a virtual environment instead: https://pip.pypa.io/warnings/venv\u001b[0m\u001b[33m\n",
      "\u001b[0m"
     ]
    }
   ],
   "source": [
    "PROJECT_ROOT_PATH = \"/workdir/DockerML_sandbox/\"\n",
    "\n",
    "datapath = PROJECT_ROOT_PATH + \"lab_competition/data/\"\n",
    "outpath = PROJECT_ROOT_PATH + \"lab_competition/output/01/\"\n",
    "\n",
    "\n",
    "# sudachiの小さい辞書をインポート\n",
    "!pip install pyproject-toml\n",
    "!pip install sudachipy sudachidict_core\n",
    "!pip install scikit-learn\n",
    "\n",
    "import numpy as np\n",
    "import collections"
   ]
  },
  {
   "cell_type": "code",
   "execution_count": 12,
   "metadata": {},
   "outputs": [],
   "source": [
    "# 各データを読み込みリストに格納\n",
    "def read_file(path):\n",
    "    with open(path, mode=\"r\") as f:\n",
    "        result = f.read().splitlines()\n",
    "    return result\n",
    "\n",
    "train_text = read_file(datapath + \"text.train.txt\")\n",
    "dev_text = read_file(datapath + \"text.dev.txt\")\n",
    "test_text = read_file(datapath + \"text.test.txt\")\n",
    "train_label = np.loadtxt(datapath + \"label.train.txt\")\n",
    "dev_label = np.loadtxt(datapath + \"label.dev.txt\")"
   ]
  },
  {
   "cell_type": "code",
   "execution_count": 13,
   "metadata": {},
   "outputs": [],
   "source": [
    "from sudachipy import tokenizer\n",
    "from sudachipy import dictionary\n",
    "from itertools import chain\n",
    "\n",
    "tokenizer_obj = dictionary.Dictionary().create()\n",
    "mode = tokenizer.Tokenizer.SplitMode.C\n",
    "\n",
    "# 前処理\n",
    "def text_cleaning(textlist, mode, clear_part_of_speech_list):\n",
    "    morphemelist = [tokenizer_obj.tokenize(text, mode) for text in textlist]\n",
    "    result = []\n",
    "    for morpheme in morphemelist:\n",
    "        words = []\n",
    "        for word in morpheme:\n",
    "            if word.part_of_speech()[0] not in clear_part_of_speech_list:\n",
    "                words.append(word.normalized_form())\n",
    "        result.append(\" \".join(words))\n",
    "    return result"
   ]
  },
  {
   "cell_type": "code",
   "execution_count": 14,
   "metadata": {},
   "outputs": [],
   "source": [
    "clear_part_of_speech_list = [\"助詞\", \"名詞\"]\n",
    "stop_words = [\"。\"]\n",
    "\n",
    "\n",
    "train_data = text_cleaning(train_text, mode, clear_part_of_speech_list)\n",
    "dev_data = text_cleaning(dev_text, mode, clear_part_of_speech_list)\n",
    "test_data = text_cleaning(test_text, mode, clear_part_of_speech_list)"
   ]
  },
  {
   "cell_type": "code",
   "execution_count": 15,
   "metadata": {},
   "outputs": [
    {
     "name": "stdout",
     "output_type": "stream",
     "text": [
      "train = (30000, 4483)\n",
      "trainlabel = (30000,)\n",
      "dev = (2500, 4483)\n",
      "devlabel = (2500,)\n"
     ]
    }
   ],
   "source": [
    "from sklearn.feature_extraction.text import TfidfVectorizer\n",
    "\n",
    "vectorizer = TfidfVectorizer(ngram_range=(1,1),stop_words=stop_words)\n",
    "train_tfidf = vectorizer.fit_transform(train_data)\n",
    "dev_tfidf = vectorizer.transform(dev_data)\n",
    "\n",
    "train_vec = train_tfidf.toarray()\n",
    "dev_vec = dev_tfidf.toarray()\n",
    "\n",
    "print(\"train = \" + str(train_vec.shape))\n",
    "print(\"trainlabel = \" + str(train_label.shape))\n",
    "print(\"dev = \" + str(dev_vec.shape))\n",
    "print(\"devlabel = \" + str(dev_label.shape))"
   ]
  },
  {
   "attachments": {},
   "cell_type": "markdown",
   "metadata": {},
   "source": [
    "# 学習"
   ]
  },
  {
   "cell_type": "code",
   "execution_count": 16,
   "metadata": {},
   "outputs": [],
   "source": [
    "from sklearn.svm import SVC\n",
    "from sklearn.metrics import accuracy_score\n",
    "from sklearn.metrics import classification_report\n",
    "from sklearn.model_selection import GridSearchCV\n",
    "\n",
    "tuned_parameters = [{\n",
    "        'C': [0.001, 0.005, 0.01, 0.05, 0.1, 1, 10, 100]\n",
    "        }]\n",
    "\n",
    "clf = GridSearchCV(\n",
    "    SVC(random_state=121), # 識別器\n",
    "    tuned_parameters, # 最適化したいパラメータセット \n",
    "    cv=1, # 交差検定の回数\n",
    "    n_jobs = 8,\n",
    "    verbose = 4,\n",
    "    scoring='accuracy') # モデルの評価関数の指定\n"
   ]
  },
  {
   "cell_type": "code",
   "execution_count": 17,
   "metadata": {},
   "outputs": [
    {
     "name": "stdout",
     "output_type": "stream",
     "text": [
      "Fitting 2 folds for each of 8 candidates, totalling 16 fits\n",
      "[CV 2/2] END ...........................C=0.001;, score=0.308 total time=85.4min\n",
      "[CV 1/2] END ...........................C=0.001;, score=0.308 total time=85.4min\n",
      "[CV 2/2] END ............................C=0.05;, score=0.309 total time=88.4min\n",
      "[CV 2/2] END ............................C=0.01;, score=0.308 total time=88.5min\n",
      "[CV 1/2] END ............................C=0.05;, score=0.309 total time=88.7min\n",
      "[CV 2/2] END ...........................C=0.005;, score=0.308 total time=89.5min\n",
      "[CV 1/2] END ...........................C=0.005;, score=0.308 total time=90.0min\n",
      "[CV 1/2] END ............................C=0.01;, score=0.308 total time=90.2min\n",
      "[CV 2/2] END .............................C=0.1;, score=0.317 total time=89.9min\n",
      "[CV 1/2] END .............................C=0.1;, score=0.312 total time=90.0min\n",
      "[CV 2/2] END ...............................C=1;, score=0.338 total time=87.8min\n",
      "[CV 1/2] END ...............................C=1;, score=0.334 total time=88.7min\n",
      "[CV 2/2] END ..............................C=10;, score=0.311 total time=91.3min\n",
      "[CV 2/2] END .............................C=100;, score=0.309 total time=90.7min\n",
      "[CV 1/2] END .............................C=100;, score=0.309 total time=91.4min\n",
      "[CV 1/2] END ..............................C=10;, score=0.307 total time=93.0min\n"
     ]
    },
    {
     "data": {
      "text/html": [
       "<style>#sk-container-id-2 {color: black;background-color: white;}#sk-container-id-2 pre{padding: 0;}#sk-container-id-2 div.sk-toggleable {background-color: white;}#sk-container-id-2 label.sk-toggleable__label {cursor: pointer;display: block;width: 100%;margin-bottom: 0;padding: 0.3em;box-sizing: border-box;text-align: center;}#sk-container-id-2 label.sk-toggleable__label-arrow:before {content: \"▸\";float: left;margin-right: 0.25em;color: #696969;}#sk-container-id-2 label.sk-toggleable__label-arrow:hover:before {color: black;}#sk-container-id-2 div.sk-estimator:hover label.sk-toggleable__label-arrow:before {color: black;}#sk-container-id-2 div.sk-toggleable__content {max-height: 0;max-width: 0;overflow: hidden;text-align: left;background-color: #f0f8ff;}#sk-container-id-2 div.sk-toggleable__content pre {margin: 0.2em;color: black;border-radius: 0.25em;background-color: #f0f8ff;}#sk-container-id-2 input.sk-toggleable__control:checked~div.sk-toggleable__content {max-height: 200px;max-width: 100%;overflow: auto;}#sk-container-id-2 input.sk-toggleable__control:checked~label.sk-toggleable__label-arrow:before {content: \"▾\";}#sk-container-id-2 div.sk-estimator input.sk-toggleable__control:checked~label.sk-toggleable__label {background-color: #d4ebff;}#sk-container-id-2 div.sk-label input.sk-toggleable__control:checked~label.sk-toggleable__label {background-color: #d4ebff;}#sk-container-id-2 input.sk-hidden--visually {border: 0;clip: rect(1px 1px 1px 1px);clip: rect(1px, 1px, 1px, 1px);height: 1px;margin: -1px;overflow: hidden;padding: 0;position: absolute;width: 1px;}#sk-container-id-2 div.sk-estimator {font-family: monospace;background-color: #f0f8ff;border: 1px dotted black;border-radius: 0.25em;box-sizing: border-box;margin-bottom: 0.5em;}#sk-container-id-2 div.sk-estimator:hover {background-color: #d4ebff;}#sk-container-id-2 div.sk-parallel-item::after {content: \"\";width: 100%;border-bottom: 1px solid gray;flex-grow: 1;}#sk-container-id-2 div.sk-label:hover label.sk-toggleable__label {background-color: #d4ebff;}#sk-container-id-2 div.sk-serial::before {content: \"\";position: absolute;border-left: 1px solid gray;box-sizing: border-box;top: 0;bottom: 0;left: 50%;z-index: 0;}#sk-container-id-2 div.sk-serial {display: flex;flex-direction: column;align-items: center;background-color: white;padding-right: 0.2em;padding-left: 0.2em;position: relative;}#sk-container-id-2 div.sk-item {position: relative;z-index: 1;}#sk-container-id-2 div.sk-parallel {display: flex;align-items: stretch;justify-content: center;background-color: white;position: relative;}#sk-container-id-2 div.sk-item::before, #sk-container-id-2 div.sk-parallel-item::before {content: \"\";position: absolute;border-left: 1px solid gray;box-sizing: border-box;top: 0;bottom: 0;left: 50%;z-index: -1;}#sk-container-id-2 div.sk-parallel-item {display: flex;flex-direction: column;z-index: 1;position: relative;background-color: white;}#sk-container-id-2 div.sk-parallel-item:first-child::after {align-self: flex-end;width: 50%;}#sk-container-id-2 div.sk-parallel-item:last-child::after {align-self: flex-start;width: 50%;}#sk-container-id-2 div.sk-parallel-item:only-child::after {width: 0;}#sk-container-id-2 div.sk-dashed-wrapped {border: 1px dashed gray;margin: 0 0.4em 0.5em 0.4em;box-sizing: border-box;padding-bottom: 0.4em;background-color: white;}#sk-container-id-2 div.sk-label label {font-family: monospace;font-weight: bold;display: inline-block;line-height: 1.2em;}#sk-container-id-2 div.sk-label-container {text-align: center;}#sk-container-id-2 div.sk-container {/* jupyter's `normalize.less` sets `[hidden] { display: none; }` but bootstrap.min.css set `[hidden] { display: none !important; }` so we also need the `!important` here to be able to override the default hidden behavior on the sphinx rendered scikit-learn.org. See: https://github.com/scikit-learn/scikit-learn/issues/21755 */display: inline-block !important;position: relative;}#sk-container-id-2 div.sk-text-repr-fallback {display: none;}</style><div id=\"sk-container-id-2\" class=\"sk-top-container\"><div class=\"sk-text-repr-fallback\"><pre>GridSearchCV(cv=2, estimator=SVC(random_state=121), n_jobs=8,\n",
       "             param_grid=[{&#x27;C&#x27;: [0.001, 0.005, 0.01, 0.05, 0.1, 1, 10, 100]}],\n",
       "             scoring=&#x27;accuracy&#x27;, verbose=4)</pre><b>In a Jupyter environment, please rerun this cell to show the HTML representation or trust the notebook. <br />On GitHub, the HTML representation is unable to render, please try loading this page with nbviewer.org.</b></div><div class=\"sk-container\" hidden><div class=\"sk-item sk-dashed-wrapped\"><div class=\"sk-label-container\"><div class=\"sk-label sk-toggleable\"><input class=\"sk-toggleable__control sk-hidden--visually\" id=\"sk-estimator-id-4\" type=\"checkbox\" ><label for=\"sk-estimator-id-4\" class=\"sk-toggleable__label sk-toggleable__label-arrow\">GridSearchCV</label><div class=\"sk-toggleable__content\"><pre>GridSearchCV(cv=2, estimator=SVC(random_state=121), n_jobs=8,\n",
       "             param_grid=[{&#x27;C&#x27;: [0.001, 0.005, 0.01, 0.05, 0.1, 1, 10, 100]}],\n",
       "             scoring=&#x27;accuracy&#x27;, verbose=4)</pre></div></div></div><div class=\"sk-parallel\"><div class=\"sk-parallel-item\"><div class=\"sk-item\"><div class=\"sk-label-container\"><div class=\"sk-label sk-toggleable\"><input class=\"sk-toggleable__control sk-hidden--visually\" id=\"sk-estimator-id-5\" type=\"checkbox\" ><label for=\"sk-estimator-id-5\" class=\"sk-toggleable__label sk-toggleable__label-arrow\">estimator: SVC</label><div class=\"sk-toggleable__content\"><pre>SVC(random_state=121)</pre></div></div></div><div class=\"sk-serial\"><div class=\"sk-item\"><div class=\"sk-estimator sk-toggleable\"><input class=\"sk-toggleable__control sk-hidden--visually\" id=\"sk-estimator-id-6\" type=\"checkbox\" ><label for=\"sk-estimator-id-6\" class=\"sk-toggleable__label sk-toggleable__label-arrow\">SVC</label><div class=\"sk-toggleable__content\"><pre>SVC(random_state=121)</pre></div></div></div></div></div></div></div></div></div></div>"
      ],
      "text/plain": [
       "GridSearchCV(cv=2, estimator=SVC(random_state=121), n_jobs=8,\n",
       "             param_grid=[{'C': [0.001, 0.005, 0.01, 0.05, 0.1, 1, 10, 100]}],\n",
       "             scoring='accuracy', verbose=4)"
      ]
     },
     "execution_count": 17,
     "metadata": {},
     "output_type": "execute_result"
    }
   ],
   "source": [
    "clf.fit(train_vec, train_label) "
   ]
  },
  {
   "cell_type": "code",
   "execution_count": 18,
   "metadata": {},
   "outputs": [
    {
     "data": {
      "text/html": [
       "<div>\n",
       "<style scoped>\n",
       "    .dataframe tbody tr th:only-of-type {\n",
       "        vertical-align: middle;\n",
       "    }\n",
       "\n",
       "    .dataframe tbody tr th {\n",
       "        vertical-align: top;\n",
       "    }\n",
       "\n",
       "    .dataframe thead th {\n",
       "        text-align: right;\n",
       "    }\n",
       "</style>\n",
       "<table border=\"1\" class=\"dataframe\">\n",
       "  <thead>\n",
       "    <tr style=\"text-align: right;\">\n",
       "      <th></th>\n",
       "      <th>mean_fit_time</th>\n",
       "      <th>std_fit_time</th>\n",
       "      <th>mean_score_time</th>\n",
       "      <th>std_score_time</th>\n",
       "      <th>param_C</th>\n",
       "      <th>params</th>\n",
       "      <th>split0_test_score</th>\n",
       "      <th>split1_test_score</th>\n",
       "      <th>mean_test_score</th>\n",
       "      <th>std_test_score</th>\n",
       "      <th>rank_test_score</th>\n",
       "    </tr>\n",
       "  </thead>\n",
       "  <tbody>\n",
       "    <tr>\n",
       "      <th>0</th>\n",
       "      <td>2920.038416</td>\n",
       "      <td>1.098432</td>\n",
       "      <td>2204.579919</td>\n",
       "      <td>1.059137</td>\n",
       "      <td>0.001</td>\n",
       "      <td>{'C': 0.001}</td>\n",
       "      <td>0.307600</td>\n",
       "      <td>0.307533</td>\n",
       "      <td>0.307567</td>\n",
       "      <td>0.000033</td>\n",
       "      <td>6</td>\n",
       "    </tr>\n",
       "    <tr>\n",
       "      <th>1</th>\n",
       "      <td>3173.641351</td>\n",
       "      <td>3.681274</td>\n",
       "      <td>2212.162542</td>\n",
       "      <td>12.294200</td>\n",
       "      <td>0.005</td>\n",
       "      <td>{'C': 0.005}</td>\n",
       "      <td>0.307600</td>\n",
       "      <td>0.307533</td>\n",
       "      <td>0.307567</td>\n",
       "      <td>0.000033</td>\n",
       "      <td>6</td>\n",
       "    </tr>\n",
       "    <tr>\n",
       "      <th>2</th>\n",
       "      <td>3198.785315</td>\n",
       "      <td>6.641411</td>\n",
       "      <td>2164.624881</td>\n",
       "      <td>44.292599</td>\n",
       "      <td>0.01</td>\n",
       "      <td>{'C': 0.01}</td>\n",
       "      <td>0.307600</td>\n",
       "      <td>0.307533</td>\n",
       "      <td>0.307567</td>\n",
       "      <td>0.000033</td>\n",
       "      <td>6</td>\n",
       "    </tr>\n",
       "    <tr>\n",
       "      <th>3</th>\n",
       "      <td>3193.555096</td>\n",
       "      <td>6.264813</td>\n",
       "      <td>2118.963426</td>\n",
       "      <td>4.019298</td>\n",
       "      <td>0.05</td>\n",
       "      <td>{'C': 0.05}</td>\n",
       "      <td>0.309000</td>\n",
       "      <td>0.309333</td>\n",
       "      <td>0.309167</td>\n",
       "      <td>0.000167</td>\n",
       "      <td>3</td>\n",
       "    </tr>\n",
       "    <tr>\n",
       "      <th>4</th>\n",
       "      <td>3138.940204</td>\n",
       "      <td>11.071913</td>\n",
       "      <td>2259.629579</td>\n",
       "      <td>8.581290</td>\n",
       "      <td>0.1</td>\n",
       "      <td>{'C': 0.1}</td>\n",
       "      <td>0.312400</td>\n",
       "      <td>0.316533</td>\n",
       "      <td>0.314467</td>\n",
       "      <td>0.002067</td>\n",
       "      <td>2</td>\n",
       "    </tr>\n",
       "    <tr>\n",
       "      <th>5</th>\n",
       "      <td>3108.731912</td>\n",
       "      <td>28.839454</td>\n",
       "      <td>2186.121276</td>\n",
       "      <td>0.273132</td>\n",
       "      <td>1</td>\n",
       "      <td>{'C': 1}</td>\n",
       "      <td>0.334467</td>\n",
       "      <td>0.337867</td>\n",
       "      <td>0.336167</td>\n",
       "      <td>0.001700</td>\n",
       "      <td>1</td>\n",
       "    </tr>\n",
       "    <tr>\n",
       "      <th>6</th>\n",
       "      <td>3726.299888</td>\n",
       "      <td>106.432832</td>\n",
       "      <td>1802.137276</td>\n",
       "      <td>57.446600</td>\n",
       "      <td>10</td>\n",
       "      <td>{'C': 10}</td>\n",
       "      <td>0.307333</td>\n",
       "      <td>0.310867</td>\n",
       "      <td>0.309100</td>\n",
       "      <td>0.001767</td>\n",
       "      <td>4</td>\n",
       "    </tr>\n",
       "    <tr>\n",
       "      <th>7</th>\n",
       "      <td>3645.497905</td>\n",
       "      <td>35.107413</td>\n",
       "      <td>1816.119103</td>\n",
       "      <td>15.614576</td>\n",
       "      <td>100</td>\n",
       "      <td>{'C': 100}</td>\n",
       "      <td>0.308533</td>\n",
       "      <td>0.309400</td>\n",
       "      <td>0.308967</td>\n",
       "      <td>0.000433</td>\n",
       "      <td>5</td>\n",
       "    </tr>\n",
       "  </tbody>\n",
       "</table>\n",
       "</div>"
      ],
      "text/plain": [
       "   mean_fit_time  std_fit_time  mean_score_time  std_score_time param_C  \\\n",
       "0    2920.038416      1.098432      2204.579919        1.059137   0.001   \n",
       "1    3173.641351      3.681274      2212.162542       12.294200   0.005   \n",
       "2    3198.785315      6.641411      2164.624881       44.292599    0.01   \n",
       "3    3193.555096      6.264813      2118.963426        4.019298    0.05   \n",
       "4    3138.940204     11.071913      2259.629579        8.581290     0.1   \n",
       "5    3108.731912     28.839454      2186.121276        0.273132       1   \n",
       "6    3726.299888    106.432832      1802.137276       57.446600      10   \n",
       "7    3645.497905     35.107413      1816.119103       15.614576     100   \n",
       "\n",
       "         params  split0_test_score  split1_test_score  mean_test_score  \\\n",
       "0  {'C': 0.001}           0.307600           0.307533         0.307567   \n",
       "1  {'C': 0.005}           0.307600           0.307533         0.307567   \n",
       "2   {'C': 0.01}           0.307600           0.307533         0.307567   \n",
       "3   {'C': 0.05}           0.309000           0.309333         0.309167   \n",
       "4    {'C': 0.1}           0.312400           0.316533         0.314467   \n",
       "5      {'C': 1}           0.334467           0.337867         0.336167   \n",
       "6     {'C': 10}           0.307333           0.310867         0.309100   \n",
       "7    {'C': 100}           0.308533           0.309400         0.308967   \n",
       "\n",
       "   std_test_score  rank_test_score  \n",
       "0        0.000033                6  \n",
       "1        0.000033                6  \n",
       "2        0.000033                6  \n",
       "3        0.000167                3  \n",
       "4        0.002067                2  \n",
       "5        0.001700                1  \n",
       "6        0.001767                4  \n",
       "7        0.000433                5  "
      ]
     },
     "metadata": {},
     "output_type": "display_data"
    },
    {
     "name": "stdout",
     "output_type": "stream",
     "text": [
      "SVC(C=1, random_state=121)\n"
     ]
    }
   ],
   "source": [
    "import pandas as pd\n",
    "\n",
    "results = pd.DataFrame(clf.cv_results_)\n",
    "best_estimator = clf.best_estimator_\n",
    "\n",
    "display(results)\n",
    "print(best_estimator)"
   ]
  },
  {
   "cell_type": "code",
   "execution_count": 20,
   "metadata": {},
   "outputs": [
    {
     "data": {
      "text/plain": [
       "Text(0, 0.5, 'accuracy')"
      ]
     },
     "execution_count": 20,
     "metadata": {},
     "output_type": "execute_result"
    },
    {
     "data": {
      "image/png": "[encoded data removed]",
      "text/plain": [
       "<Figure size 640x480 with 1 Axes>"
      ]
     },
     "metadata": {},
     "output_type": "display_data"
    }
   ],
   "source": [
    "from matplotlib import pyplot as plt\n",
    "\n",
    "plt.bar([str(i) for i in results[\"param_C\"]], results[\"mean_test_score\"])\n",
    "plt.title('GridSearch result for SVC() (best = C(1) : 0.336167)')\n",
    "plt.xlabel(\"C\")\n",
    "plt.ylabel(\"accuracy\")"
   ]
  }
 ],
 "metadata": {
  "kernelspec": {
   "display_name": "Python 3",
   "language": "python",
   "name": "python3"
  },
  "language_info": {
   "codemirror_mode": {
    "name": "ipython",
    "version": 3
   },
   "file_extension": ".py",
   "mimetype": "text/x-python",
   "name": "python",
   "nbconvert_exporter": "python",
   "pygments_lexer": "ipython3",
   "version": "3.10.6"
  },
  "orig_nbformat": 4,
  "vscode": {
   "interpreter": {
    "hash": "916dbcbb3f70747c44a77c7bcd40155683ae19c65e1c03b4aa3499c5328201f1"
   }
  }
 },
 "nbformat": 4,
 "nbformat_minor": 2
}

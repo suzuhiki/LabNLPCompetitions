{
 "cells": [
  {
   "cell_type": "markdown",
   "metadata": {},
   "source": [
    "# データ読み込み"
   ]
  },
  {
   "cell_type": "code",
   "execution_count": 20,
   "metadata": {},
   "outputs": [
    {
     "name": "stdout",
     "output_type": "stream",
     "text": [
      "Requirement already satisfied: pyproject-toml in /usr/local/lib/python3.10/dist-packages (0.0.10)\n",
      "Requirement already satisfied: setuptools>=42 in /usr/local/lib/python3.10/dist-packages (from pyproject-toml) (65.6.3)\n",
      "Requirement already satisfied: toml in /usr/local/lib/python3.10/dist-packages (from pyproject-toml) (0.10.2)\n",
      "Requirement already satisfied: jsonschema in /usr/local/lib/python3.10/dist-packages (from pyproject-toml) (4.17.3)\n",
      "Requirement already satisfied: wheel in /usr/local/lib/python3.10/dist-packages (from pyproject-toml) (0.38.4)\n",
      "Requirement already satisfied: attrs>=17.4.0 in /usr/local/lib/python3.10/dist-packages (from jsonschema->pyproject-toml) (22.1.0)\n",
      "Requirement already satisfied: pyrsistent!=0.17.0,!=0.17.1,!=0.17.2,>=0.14.0 in /usr/local/lib/python3.10/dist-packages (from jsonschema->pyproject-toml) (0.19.2)\n",
      "\u001b[33mWARNING: Running pip as the 'root' user can result in broken permissions and conflicting behaviour with the system package manager. It is recommended to use a virtual environment instead: https://pip.pypa.io/warnings/venv\u001b[0m\u001b[33m\n",
      "\u001b[0mRequirement already satisfied: sudachipy in /usr/local/lib/python3.10/dist-packages (0.6.6)\n",
      "Requirement already satisfied: sudachidict_core in /usr/local/lib/python3.10/dist-packages (20221021)\n",
      "\u001b[33mWARNING: Running pip as the 'root' user can result in broken permissions and conflicting behaviour with the system package manager. It is recommended to use a virtual environment instead: https://pip.pypa.io/warnings/venv\u001b[0m\u001b[33m\n",
      "\u001b[0mRequirement already satisfied: scikit-learn in /usr/local/lib/python3.10/dist-packages (1.2.0)\n",
      "Requirement already satisfied: numpy>=1.17.3 in /usr/local/lib/python3.10/dist-packages (from scikit-learn) (1.23.5)\n",
      "Requirement already satisfied: scipy>=1.3.2 in /usr/local/lib/python3.10/dist-packages (from scikit-learn) (1.9.3)\n",
      "Requirement already satisfied: threadpoolctl>=2.0.0 in /usr/local/lib/python3.10/dist-packages (from scikit-learn) (3.1.0)\n",
      "Requirement already satisfied: joblib>=1.1.1 in /usr/local/lib/python3.10/dist-packages (from scikit-learn) (1.2.0)\n",
      "\u001b[33mWARNING: Running pip as the 'root' user can result in broken permissions and conflicting behaviour with the system package manager. It is recommended to use a virtual environment instead: https://pip.pypa.io/warnings/venv\u001b[0m\u001b[33m\n",
      "\u001b[0m"
     ]
    }
   ],
   "source": [
    "datapath = \"/workdir/DockerML_sandbox/lab_competition/data/\"\n",
    "outpath = \"/workdir/DockerML_sandbox/lab_competition/output/01/\"\n",
    "\n",
    "\n",
    "# sudachiの小さい辞書をインポート\n",
    "!pip install pyproject-toml\n",
    "!pip install sudachipy sudachidict_core\n",
    "!pip install scikit-learn\n",
    "\n",
    "import numpy as np\n",
    "import collections"
   ]
  },
  {
   "cell_type": "code",
   "execution_count": 21,
   "metadata": {},
   "outputs": [],
   "source": [
    "# 各データを読み込みリストに格納\n",
    "def read_file(path):\n",
    "    with open(path, mode=\"r\") as f:\n",
    "        result = f.read().splitlines()\n",
    "    return result\n",
    "\n",
    "train_text = read_file(datapath + \"text.train.txt\")\n",
    "dev_text = read_file(datapath + \"text.dev.txt\")\n",
    "test_text = read_file(datapath + \"text.test.txt\")\n",
    "train_label = np.loadtxt(datapath + \"label.train.txt\")\n",
    "dev_label = np.loadtxt(datapath + \"label.dev.txt\")"
   ]
  },
  {
   "cell_type": "code",
   "execution_count": 31,
   "metadata": {},
   "outputs": [],
   "source": [
    "from sudachipy import tokenizer\n",
    "from sudachipy import dictionary\n",
    "from itertools import chain\n",
    "\n",
    "tokenizer_obj = dictionary.Dictionary().create()\n",
    "mode = tokenizer.Tokenizer.SplitMode.C\n",
    "\n",
    "# 前処理\n",
    "def text_cleaning(textlist, mode, clear_part_of_speech_list):\n",
    "    morphemelist = [tokenizer_obj.tokenize(text, mode) for text in textlist]\n",
    "    result = []\n",
    "    for morpheme in morphemelist:\n",
    "        words = []\n",
    "        for word in morpheme:\n",
    "            if word.part_of_speech()[0] not in clear_part_of_speech_list:\n",
    "                words.append(word.normalized_form())\n",
    "        result.append(words)\n",
    "    return result\n",
    "\n",
    "# キーのリストを作る\n",
    "def create_dictionary(text, threshold):\n",
    "    dic = collections.Counter(text)\n",
    "    dic = {key:value for key, value in dic.items() if value >= threshold}\n",
    "    print(sorted(dic.items(), key=lambda x:x[1], reverse=True)[:20])\n",
    "    \n",
    "    # 単語ごとにidをふる\n",
    "    id_dic = dict(zip(dic.keys(), range(len(dic.keys()))))\n",
    "    return id_dic"
   ]
  },
  {
   "cell_type": "code",
   "execution_count": 32,
   "metadata": {},
   "outputs": [
    {
     "name": "stdout",
     "output_type": "stream",
     "text": [
      "[('だ', 25463), ('た', 23615), ('為る', 14526), ('てる', 8308), ('ない', 8190), (' ', 5122), ('成る', 4803), ('無い', 4749), ('居る', 4305), ('言う', 3871), ('良い', 3596), ('ます', 3513), ('たい', 3461), ('こと', 3417), ('有る', 3401), ('です', 3204), ('行く', 3120), ('見る', 3113), ('思う', 3029), ('来る', 2926)]\n"
     ]
    }
   ],
   "source": [
    "clear_part_of_speech_list = [\"補助記号\", \"助詞\"]\n",
    "\n",
    "train_data = text_cleaning(train_text, mode, clear_part_of_speech_list)\n",
    "dev_data = text_cleaning(dev_text, mode, clear_part_of_speech_list)\n",
    "test_data = text_cleaning(test_text, mode, clear_part_of_speech_list)\n",
    "\n",
    "id_dictionary = create_dictionary(chain.from_iterable(train_data + dev_data), 3)"
   ]
  },
  {
   "cell_type": "code",
   "execution_count": 36,
   "metadata": {},
   "outputs": [
    {
     "name": "stderr",
     "output_type": "stream",
     "text": [
      "IOPub data rate exceeded.\n",
      "The Jupyter server will temporarily stop sending output\n",
      "to the client in order to avoid crashing it.\n",
      "To change this limit, set the config variable\n",
      "`--ServerApp.iopub_data_rate_limit`.\n",
      "\n",
      "Current values:\n",
      "ServerApp.iopub_data_rate_limit=1000000.0 (bytes/sec)\n",
      "ServerApp.rate_limit_window=3.0 (secs)\n",
      "\n"
     ]
    }
   ],
   "source": [
    "# 前処理結果の確認\n",
    "def check_prepro(textdata, mode, clear_part_of_speech_list):\n",
    "    original_textdata = textdata\n",
    "    clean_textdata = text_cleaning(textdata, mode, clear_part_of_speech_list)\n",
    "    with open(datapath + \"prepro_check.txt\", \"w\") as f:\n",
    "        for original, clean in zip(original_textdata, clean_textdata):\n",
    "            f.write(original + \" => \" + \"\".join(clean) + \"\\n\")\n",
    "\n",
    "check_prepro(train_text, mode, clear_part_of_speech_list)"
   ]
  },
  {
   "cell_type": "code",
   "execution_count": 24,
   "metadata": {},
   "outputs": [],
   "source": [
    "def create_sentence_vec(textlist, id_dict):\n",
    "    vec = np.zeros((len(textlist),len(id_dict)))\n",
    "    for i, text in enumerate(textlist):\n",
    "        for word in text:\n",
    "            if word in id_dict:\n",
    "                vec[i, id_dict[word]] += 1\n",
    "    return vec\n",
    "\n",
    "train_vec = create_sentence_vec(train_data, id_dictionary)\n",
    "dev_vec = create_sentence_vec(dev_data, id_dictionary)\n",
    "test_vec = create_sentence_vec(test_data, id_dictionary)"
   ]
  },
  {
   "cell_type": "markdown",
   "metadata": {},
   "source": [
    "# ロジスティック回帰"
   ]
  },
  {
   "cell_type": "code",
   "execution_count": 27,
   "metadata": {},
   "outputs": [
    {
     "name": "stdout",
     "output_type": "stream",
     "text": [
      "C = 0.05 report start\n",
      "正確率 = 0.363\n",
      "              precision    recall  f1-score   support\n",
      "\n",
      "        -2.0       0.30      0.07      0.12       310\n",
      "        -1.0       0.31      0.17      0.22       415\n",
      "         0.0       0.32      0.66      0.43       647\n",
      "         1.0       0.46      0.43      0.44       837\n",
      "         2.0       0.43      0.08      0.13       291\n",
      "\n",
      "    accuracy                           0.36      2500\n",
      "   macro avg       0.36      0.28      0.27      2500\n",
      "weighted avg       0.37      0.36      0.33      2500\n",
      "\n",
      "C = 0.05 report end\n",
      "タスク終了　best_c = 0.05 acc = 0.3632\n"
     ]
    }
   ],
   "source": [
    "from sklearn.linear_model import LogisticRegression\n",
    "from sklearn.metrics import accuracy_score\n",
    "from sklearn.metrics import classification_report\n",
    "\n",
    "C_list = [0.05]\n",
    "best_c = 0\n",
    "best_c_acc = 0\n",
    "\n",
    "for c in C_list:\n",
    "    model = LogisticRegression(random_state=0, max_iter=100000, C=c)\n",
    "    model.fit(train_vec, train_label)\n",
    "    dev_pred = model.predict(dev_vec)\n",
    "    acc = accuracy_score(dev_pred, dev_label)\n",
    "    print(\"C = \" + str(c) + \" report start\")\n",
    "    print(\"正確率 = %.3f\" % (acc))\n",
    "    print(classification_report(dev_label, dev_pred))\n",
    "    print(\"C = \" + str(c) + \" report end\")\n",
    "    if acc > best_c_acc:\n",
    "        best_c_acc = acc\n",
    "        best_c = c\n",
    "\n",
    "print(\"タスク終了　best_c = \" + str(best_c) + \" acc = \" + str(best_c_acc))"
   ]
  },
  {
   "cell_type": "code",
   "execution_count": 29,
   "metadata": {},
   "outputs": [
    {
     "name": "stdout",
     "output_type": "stream",
     "text": [
      "C = 0.0042 report start\n",
      "正確率 = 0.360\n",
      "              precision    recall  f1-score   support\n",
      "\n",
      "        -2.0       0.35      0.06      0.11       310\n",
      "        -1.0       0.28      0.13      0.17       415\n",
      "         0.0       0.32      0.69      0.43       647\n",
      "         1.0       0.45      0.44      0.45       837\n",
      "         2.0       0.57      0.04      0.08       291\n",
      "\n",
      "    accuracy                           0.36      2500\n",
      "   macro avg       0.39      0.27      0.25      2500\n",
      "weighted avg       0.39      0.36      0.31      2500\n",
      "\n",
      "C = 0.0042 report end\n",
      "タスク終了　best_c = 0.0042 acc = 0.3604\n"
     ]
    }
   ],
   "source": [
    "from sklearn.svm import LinearSVC\n",
    "from sklearn.metrics import accuracy_score\n",
    "from sklearn.metrics import classification_report\n",
    "\n",
    "C_list = [0.0042]\n",
    "best_c = 0\n",
    "best_c_acc = 0\n",
    "\n",
    "for c in C_list:\n",
    "    model = LinearSVC(random_state=0, max_iter=100000, C=c)\n",
    "    model.fit(train_vec, train_label)\n",
    "    dev_pred = model.predict(dev_vec)\n",
    "    acc = accuracy_score(dev_pred, dev_label)\n",
    "    print(\"C = \" + str(c) + \" report start\")\n",
    "    print(\"正確率 = %.3f\" % (acc))\n",
    "    print(classification_report(dev_label, dev_pred))\n",
    "    print(\"C = \" + str(c) + \" report end\")\n",
    "    if acc > best_c_acc:\n",
    "        best_c_acc = acc\n",
    "        best_c = c\n",
    "\n",
    "print(\"タスク終了　best_c = \" + str(best_c) + \" acc = \" + str(best_c_acc))"
   ]
  },
  {
   "cell_type": "code",
   "execution_count": 30,
   "metadata": {},
   "outputs": [],
   "source": [
    "# test出力\n",
    "test_pred = model.predict(test_vec)\n",
    "\n",
    "with open(outpath + \"v0.0.1_LinearSVC.txt\",\"w\") as f:\n",
    "    for l in test_pred:\n",
    "        temp = str(int(l)) + \"\\n\"\n",
    "        f.write(temp)"
   ]
  }
 ],
 "metadata": {
  "kernelspec": {
   "display_name": "Python 3 (ipykernel)",
   "language": "python",
   "name": "python3"
  },
  "language_info": {
   "codemirror_mode": {
    "name": "ipython",
    "version": 3
   },
   "file_extension": ".py",
   "mimetype": "text/x-python",
   "name": "python",
   "nbconvert_exporter": "python",
   "pygments_lexer": "ipython3",
   "version": "3.10.6"
  },
  "vscode": {
   "interpreter": {
    "hash": "31f2aee4e71d21fbe5cf8b01ff0e069b9275f58929596ceb00d14d90e3e16cd6"
   }
  }
 },
 "nbformat": 4,
 "nbformat_minor": 4
}

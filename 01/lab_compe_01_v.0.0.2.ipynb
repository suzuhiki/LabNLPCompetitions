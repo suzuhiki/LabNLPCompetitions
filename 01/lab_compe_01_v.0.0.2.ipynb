{
 "cells": [
  {
   "cell_type": "code",
   "execution_count": 1,
   "metadata": {},
   "outputs": [
    {
     "name": "stdout",
     "output_type": "stream",
     "text": [
      "Requirement already satisfied: pyproject-toml in /usr/local/lib/python3.10/dist-packages (0.0.10)\n",
      "Requirement already satisfied: jsonschema in /usr/local/lib/python3.10/dist-packages (from pyproject-toml) (4.17.3)\n",
      "Requirement already satisfied: wheel in /usr/local/lib/python3.10/dist-packages (from pyproject-toml) (0.38.4)\n",
      "Requirement already satisfied: toml in /usr/local/lib/python3.10/dist-packages (from pyproject-toml) (0.10.2)\n",
      "Requirement already satisfied: setuptools>=42 in /usr/local/lib/python3.10/dist-packages (from pyproject-toml) (65.6.3)\n",
      "Requirement already satisfied: pyrsistent!=0.17.0,!=0.17.1,!=0.17.2,>=0.14.0 in /usr/local/lib/python3.10/dist-packages (from jsonschema->pyproject-toml) (0.19.2)\n",
      "Requirement already satisfied: attrs>=17.4.0 in /usr/local/lib/python3.10/dist-packages (from jsonschema->pyproject-toml) (22.1.0)\n",
      "\u001b[33mWARNING: Running pip as the 'root' user can result in broken permissions and conflicting behaviour with the system package manager. It is recommended to use a virtual environment instead: https://pip.pypa.io/warnings/venv\u001b[0m\u001b[33m\n",
      "\u001b[0mRequirement already satisfied: sudachipy in /usr/local/lib/python3.10/dist-packages (0.6.6)\n",
      "Requirement already satisfied: sudachidict_core in /usr/local/lib/python3.10/dist-packages (20221021)\n",
      "\u001b[33mWARNING: Running pip as the 'root' user can result in broken permissions and conflicting behaviour with the system package manager. It is recommended to use a virtual environment instead: https://pip.pypa.io/warnings/venv\u001b[0m\u001b[33m\n",
      "\u001b[0mRequirement already satisfied: scikit-learn in /usr/local/lib/python3.10/dist-packages (1.2.0)\n",
      "Requirement already satisfied: scipy>=1.3.2 in /usr/local/lib/python3.10/dist-packages (from scikit-learn) (1.9.3)\n",
      "Requirement already satisfied: threadpoolctl>=2.0.0 in /usr/local/lib/python3.10/dist-packages (from scikit-learn) (3.1.0)\n",
      "Requirement already satisfied: joblib>=1.1.1 in /usr/local/lib/python3.10/dist-packages (from scikit-learn) (1.2.0)\n",
      "Requirement already satisfied: numpy>=1.17.3 in /usr/local/lib/python3.10/dist-packages (from scikit-learn) (1.24.0)\n",
      "\u001b[33mWARNING: Running pip as the 'root' user can result in broken permissions and conflicting behaviour with the system package manager. It is recommended to use a virtual environment instead: https://pip.pypa.io/warnings/venv\u001b[0m\u001b[33m\n",
      "\u001b[0m"
     ]
    }
   ],
   "source": [
    "PROJECT_ROOT_PATH = \"/workdir/DockerML_sandbox/\"\n",
    "\n",
    "datapath = PROJECT_ROOT_PATH + \"lab_competition/data/\"\n",
    "outpath = PROJECT_ROOT_PATH + \"lab_competition/output/01/\"\n",
    "\n",
    "\n",
    "# sudachiの小さい辞書をインポート\n",
    "!pip install pyproject-toml\n",
    "!pip install sudachipy sudachidict_core\n",
    "!pip install scikit-learn\n",
    "\n",
    "import numpy as np\n",
    "import collections"
   ]
  },
  {
   "cell_type": "code",
   "execution_count": 2,
   "metadata": {},
   "outputs": [],
   "source": [
    "# 各データを読み込みリストに格納\n",
    "def read_file(path):\n",
    "    with open(path, mode=\"r\") as f:\n",
    "        result = f.read().splitlines()\n",
    "    return result\n",
    "\n",
    "train_text = read_file(datapath + \"text.train.txt\")\n",
    "dev_text = read_file(datapath + \"text.dev.txt\")\n",
    "test_text = read_file(datapath + \"text.test.txt\")\n",
    "train_label = np.loadtxt(datapath + \"label.train.txt\")\n",
    "dev_label = np.loadtxt(datapath + \"label.dev.txt\")"
   ]
  },
  {
   "cell_type": "code",
   "execution_count": 3,
   "metadata": {},
   "outputs": [],
   "source": [
    "from sudachipy import tokenizer\n",
    "from sudachipy import dictionary\n",
    "from itertools import chain\n",
    "\n",
    "tokenizer_obj = dictionary.Dictionary().create()\n",
    "mode = tokenizer.Tokenizer.SplitMode.C\n",
    "\n",
    "# 前処理\n",
    "def text_cleaning(textlist, mode, clear_part_of_speech_list):\n",
    "    morphemelist = [tokenizer_obj.tokenize(text, mode) for text in textlist]\n",
    "    result = []\n",
    "    for morpheme in morphemelist:\n",
    "        words = []\n",
    "        for word in morpheme:\n",
    "            if word.part_of_speech()[0] not in clear_part_of_speech_list:\n",
    "                words.append(word.normalized_form())\n",
    "        result.append(\" \".join(words))\n",
    "    return result"
   ]
  },
  {
   "cell_type": "code",
   "execution_count": 29,
   "metadata": {},
   "outputs": [],
   "source": [
    "clear_part_of_speech_list = [\"補助記号\", \"助詞\",\"名詞\"]\n",
    "\n",
    "train_data = text_cleaning(train_text, mode, clear_part_of_speech_list)\n",
    "dev_data = text_cleaning(dev_text, mode, clear_part_of_speech_list)\n",
    "test_data = text_cleaning(test_text, mode, clear_part_of_speech_list)"
   ]
  },
  {
   "cell_type": "code",
   "execution_count": 39,
   "metadata": {},
   "outputs": [
    {
     "name": "stdout",
     "output_type": "stream",
     "text": [
      "train = (30000, 56335)\n",
      "trainlabel = (30000,)\n",
      "dev = (2500, 56335)\n",
      "devlabel = (2500,)\n"
     ]
    }
   ],
   "source": [
    "from sklearn.feature_extraction.text import TfidfVectorizer\n",
    "\n",
    "vectorizer = TfidfVectorizer(ngram_range=(2,2))\n",
    "train_tfidf = vectorizer.fit_transform(train_data)\n",
    "dev_tfidf = vectorizer.transform(dev_data)\n",
    "\n",
    "train_vec = train_tfidf.toarray()\n",
    "dev_vec = dev_tfidf.toarray()\n",
    "\n",
    "print(\"train = \" + str(train_vec.shape))\n",
    "print(\"trainlabel = \" + str(train_label.shape))\n",
    "print(\"dev = \" + str(dev_vec.shape))\n",
    "print(\"devlabel = \" + str(dev_label.shape))"
   ]
  },
  {
   "cell_type": "markdown",
   "metadata": {},
   "source": [
    "# 学習"
   ]
  },
  {
   "cell_type": "code",
   "execution_count": 40,
   "metadata": {},
   "outputs": [
    {
     "name": "stdout",
     "output_type": "stream",
     "text": [
      "正確率 = 0.296\n",
      "QuadraticWeightedKappa = 0.296\n",
      "              precision    recall  f1-score   support\n",
      "\n",
      "        -2.0       0.50      0.00      0.01       310\n",
      "        -1.0       0.16      0.02      0.04       415\n",
      "         0.0       0.27      0.83      0.41       647\n",
      "         1.0       0.43      0.22      0.29       837\n",
      "         2.0       0.33      0.00      0.01       291\n",
      "\n",
      "    accuracy                           0.30      2500\n",
      "   macro avg       0.34      0.22      0.15      2500\n",
      "weighted avg       0.34      0.30      0.21      2500\n",
      "\n"
     ]
    }
   ],
   "source": [
    "from sklearn.naive_bayes import MultinomialNB\n",
    "from sklearn.metrics import accuracy_score\n",
    "from sklearn.metrics import classification_report\n",
    "from sklearn.metrics import cohen_kappa_score\n",
    "\n",
    "model = MultinomialNB()\n",
    "model.fit(train_vec, train_label)\n",
    "\n",
    "dev_pred = model.predict(dev_vec)\n",
    "acc = accuracy_score(dev_pred, dev_label)\n",
    "kappa = cohen_kappa_score(dev_pred, dev_label)\n",
    "print(\"正確率 = %.3f\" % (acc))\n",
    "print(\"QuadraticWeightedKappa = %.3f\" % (acc))\n",
    "print(classification_report(dev_label, dev_pred))"
   ]
  },
  {
   "cell_type": "code",
   "execution_count": null,
   "metadata": {},
   "outputs": [],
   "source": []
  }
 ],
 "metadata": {
  "kernelspec": {
   "display_name": "Python 3 (ipykernel)",
   "language": "python",
   "name": "python3"
  },
  "language_info": {
   "codemirror_mode": {
    "name": "ipython",
    "version": 3
   },
   "file_extension": ".py",
   "mimetype": "text/x-python",
   "name": "python",
   "nbconvert_exporter": "python",
   "pygments_lexer": "ipython3",
   "version": "3.10.6"
  },
  "vscode": {
   "interpreter": {
    "hash": "31f2aee4e71d21fbe5cf8b01ff0e069b9275f58929596ceb00d14d90e3e16cd6"
   }
  }
 },
 "nbformat": 4,
 "nbformat_minor": 4
}

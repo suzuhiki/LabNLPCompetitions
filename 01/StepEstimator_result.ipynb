{
 "cells": [
  {
   "cell_type": "code",
   "execution_count": 74,
   "id": "ada50fff-de28-402e-8e21-47924f1da71d",
   "metadata": {},
   "outputs": [],
   "source": [
    "PROJECT_ROOT_PATH = \"../../\"\n",
    "\n",
    "datapath = PROJECT_ROOT_PATH + \"lab_competition/data/\"\n",
    "outpath = PROJECT_ROOT_PATH + \"lab_competition/output/01/\"\n",
    "\n",
    "import pandas as pd \n",
    "import matplotlib.pyplot as plt\n",
    "import numpy as np \n",
    "import collections\n",
    "import seaborn as sns\n",
    "\n",
    "%matplotlib inline\n",
    "sns.set_style(\"whitegrid\")\n",
    "plt.style.use(\"fivethirtyeight\")\n",
    "pd.options.display.max_columns = 32"
   ]
  },
  {
   "cell_type": "code",
   "execution_count": 75,
   "id": "7b86b0b7-5af3-48d3-b8ee-40ad790a00f6",
   "metadata": {},
   "outputs": [],
   "source": [
    "dev_label = np.loadtxt(datapath + \"label.dev.txt\")"
   ]
  },
  {
   "cell_type": "code",
   "execution_count": 76,
   "id": "3b870ae6-f365-43f3-92e5-7288e7274170",
   "metadata": {},
   "outputs": [
    {
     "data": {
      "text/html": [
       "<div>\n",
       "<style scoped>\n",
       "    .dataframe tbody tr th:only-of-type {\n",
       "        vertical-align: middle;\n",
       "    }\n",
       "\n",
       "    .dataframe tbody tr th {\n",
       "        vertical-align: top;\n",
       "    }\n",
       "\n",
       "    .dataframe thead th {\n",
       "        text-align: right;\n",
       "    }\n",
       "</style>\n",
       "<table border=\"1\" class=\"dataframe\">\n",
       "  <thead>\n",
       "    <tr style=\"text-align: right;\">\n",
       "      <th></th>\n",
       "      <th>data</th>\n",
       "      <th>text</th>\n",
       "      <th>negative_pred</th>\n",
       "      <th>3class_pred</th>\n",
       "      <th>positive_pred</th>\n",
       "    </tr>\n",
       "  </thead>\n",
       "  <tbody>\n",
       "    <tr>\n",
       "      <th>0</th>\n",
       "      <td>0.0</td>\n",
       "      <td>建設中の建物の利用目的も変更になるだろうなあ。</td>\n",
       "      <td>-1</td>\n",
       "      <td>1</td>\n",
       "      <td>1</td>\n",
       "    </tr>\n",
       "    <tr>\n",
       "      <th>1</th>\n",
       "      <td>-2.0</td>\n",
       "      <td>演劇とかも同時並行でやっている。演劇の危機にどう思ってるか知りたかった。</td>\n",
       "      <td>-1</td>\n",
       "      <td>0</td>\n",
       "      <td>1</td>\n",
       "    </tr>\n",
       "    <tr>\n",
       "      <th>2</th>\n",
       "      <td>-1.0</td>\n",
       "      <td>犬夜叉には腐女子っていないのかな？というかあの漫画はＮＬ向けの漫画なのかも。</td>\n",
       "      <td>-1</td>\n",
       "      <td>1</td>\n",
       "      <td>2</td>\n",
       "    </tr>\n",
       "    <tr>\n",
       "      <th>3</th>\n",
       "      <td>0.0</td>\n",
       "      <td>話を続けるための子どもって感じかな。でも、それって簡単にやってはいけない気もする。</td>\n",
       "      <td>-1</td>\n",
       "      <td>0</td>\n",
       "      <td>1</td>\n",
       "    </tr>\n",
       "    <tr>\n",
       "      <th>4</th>\n",
       "      <td>-1.0</td>\n",
       "      <td>今、製作中の劇場版が子どもとかだったらどうしよう。</td>\n",
       "      <td>-1</td>\n",
       "      <td>-1</td>\n",
       "      <td>1</td>\n",
       "    </tr>\n",
       "  </tbody>\n",
       "</table>\n",
       "</div>"
      ],
      "text/plain": [
       "   data                                       text  negative_pred  \\\n",
       "0   0.0                    建設中の建物の利用目的も変更になるだろうなあ。             -1   \n",
       "1  -2.0       演劇とかも同時並行でやっている。演劇の危機にどう思ってるか知りたかった。             -1   \n",
       "2  -1.0     犬夜叉には腐女子っていないのかな？というかあの漫画はＮＬ向けの漫画なのかも。             -1   \n",
       "3   0.0  話を続けるための子どもって感じかな。でも、それって簡単にやってはいけない気もする。             -1   \n",
       "4  -1.0                  今、製作中の劇場版が子どもとかだったらどうしよう。             -1   \n",
       "\n",
       "   3class_pred  positive_pred  \n",
       "0            1              1  \n",
       "1            0              1  \n",
       "2            1              2  \n",
       "3            0              1  \n",
       "4           -1              1  "
      ]
     },
     "execution_count": 76,
     "metadata": {},
     "output_type": "execute_result"
    }
   ],
   "source": [
    "dev_result_df = pd.read_csv(datapath+\"step_estimator_dev_tmp.csv\")\n",
    "dev_result_df.head()"
   ]
  },
  {
   "cell_type": "code",
   "execution_count": 77,
   "id": "16d0f46f-debd-4723-bd0e-247615583c57",
   "metadata": {},
   "outputs": [
    {
     "data": {
      "text/html": [
       "<div>\n",
       "<style scoped>\n",
       "    .dataframe tbody tr th:only-of-type {\n",
       "        vertical-align: middle;\n",
       "    }\n",
       "\n",
       "    .dataframe tbody tr th {\n",
       "        vertical-align: top;\n",
       "    }\n",
       "\n",
       "    .dataframe thead th {\n",
       "        text-align: right;\n",
       "    }\n",
       "</style>\n",
       "<table border=\"1\" class=\"dataframe\">\n",
       "  <thead>\n",
       "    <tr style=\"text-align: right;\">\n",
       "      <th></th>\n",
       "      <th>text</th>\n",
       "      <th>negative_pred</th>\n",
       "      <th>3class_pred</th>\n",
       "      <th>positive_pred</th>\n",
       "    </tr>\n",
       "  </thead>\n",
       "  <tbody>\n",
       "    <tr>\n",
       "      <th>0</th>\n",
       "      <td>ハッピーセット、またプラレールが始まるからしばらくマックばかりになりそう。</td>\n",
       "      <td>-1</td>\n",
       "      <td>1</td>\n",
       "      <td>1</td>\n",
       "    </tr>\n",
       "    <tr>\n",
       "      <th>1</th>\n",
       "      <td>今日は天気が良いので外出がきもちよいです。秋晴れ良いですね。</td>\n",
       "      <td>-2</td>\n",
       "      <td>1</td>\n",
       "      <td>1</td>\n",
       "    </tr>\n",
       "    <tr>\n",
       "      <th>2</th>\n",
       "      <td>あぁ〜そうなんだ。。。 やっぱライブでは芸人みんなわちゃわちゃしてるとこが見たかったな</td>\n",
       "      <td>-1</td>\n",
       "      <td>1</td>\n",
       "      <td>2</td>\n",
       "    </tr>\n",
       "    <tr>\n",
       "      <th>3</th>\n",
       "      <td>踊り場110話まできたぞこら</td>\n",
       "      <td>-1</td>\n",
       "      <td>1</td>\n",
       "      <td>1</td>\n",
       "    </tr>\n",
       "    <tr>\n",
       "      <th>4</th>\n",
       "      <td>カウコン行かれる方、楽しんで下さい〜！！</td>\n",
       "      <td>-1</td>\n",
       "      <td>1</td>\n",
       "      <td>1</td>\n",
       "    </tr>\n",
       "  </tbody>\n",
       "</table>\n",
       "</div>"
      ],
      "text/plain": [
       "                                          text  negative_pred  3class_pred  \\\n",
       "0        ハッピーセット、またプラレールが始まるからしばらくマックばかりになりそう。             -1            1   \n",
       "1               今日は天気が良いので外出がきもちよいです。秋晴れ良いですね。             -2            1   \n",
       "2  あぁ〜そうなんだ。。。 やっぱライブでは芸人みんなわちゃわちゃしてるとこが見たかったな             -1            1   \n",
       "3                               踊り場110話まできたぞこら             -1            1   \n",
       "4                         カウコン行かれる方、楽しんで下さい〜！！             -1            1   \n",
       "\n",
       "   positive_pred  \n",
       "0              1  \n",
       "1              1  \n",
       "2              2  \n",
       "3              1  \n",
       "4              1  "
      ]
     },
     "execution_count": 77,
     "metadata": {},
     "output_type": "execute_result"
    }
   ],
   "source": [
    "test_result_df = pd.read_csv(datapath+\"step_estimator_tmp.csv\")\n",
    "test_result_df.head()"
   ]
  },
  {
   "cell_type": "code",
   "execution_count": 78,
   "id": "4e94b17f-7d91-4f68-bce0-f1ef366ef58c",
   "metadata": {},
   "outputs": [],
   "source": [
    "def cal_result(result_df):\n",
    "    result = []\n",
    "    for index, row in result_df.iterrows():\n",
    "        if row[\"3class_pred\"] == 0:\n",
    "            result.append(0)\n",
    "        elif row[\"3class_pred\"] == 1:\n",
    "            result.append(row[\"positive_pred\"])\n",
    "        elif row[\"3class_pred\"] == -1:\n",
    "            result.append(row[\"negative_pred\"])\n",
    "    return result"
   ]
  },
  {
   "cell_type": "code",
   "execution_count": 79,
   "id": "b783387e-c2a6-499c-9759-bbfb63402b61",
   "metadata": {},
   "outputs": [],
   "source": [
    "test_result = cal_result(test_result_df)\n",
    "dev_result = cal_result(dev_result_df)"
   ]
  },
  {
   "cell_type": "code",
   "execution_count": 80,
   "id": "c1f77929-d49c-44e5-ae0f-6bbcbf323c8b",
   "metadata": {},
   "outputs": [
    {
     "name": "stdout",
     "output_type": "stream",
     "text": [
      "正確率 = 0.358 kappa = 0.379\n",
      "              precision    recall  f1-score   support\n",
      "\n",
      "        -2.0       0.28      0.20      0.23       310\n",
      "        -1.0       0.32      0.31      0.31       415\n",
      "         0.0       0.36      0.31      0.33       647\n",
      "         1.0       0.42      0.50      0.46       837\n",
      "         2.0       0.27      0.29      0.28       291\n",
      "\n",
      "    accuracy                           0.36      2500\n",
      "   macro avg       0.33      0.32      0.32      2500\n",
      "weighted avg       0.35      0.36      0.35      2500\n",
      "\n"
     ]
    },
    {
     "data": {
      "text/plain": [
       "<AxesSubplot: >"
      ]
     },
     "execution_count": 80,
     "metadata": {},
     "output_type": "execute_result"
    },
    {
     "data": {
      "image/png": "[encoded data removed]",
      "text/plain": [
       "<Figure size 640x480 with 2 Axes>"
      ]
     },
     "metadata": {},
     "output_type": "display_data"
    }
   ],
   "source": [
    "from sklearn.metrics import accuracy_score\n",
    "from sklearn.metrics import classification_report\n",
    "from sklearn.metrics import cohen_kappa_score\n",
    "from sklearn.metrics import confusion_matrix\n",
    "import seaborn as sns\n",
    "import matplotlib.pyplot as plt\n",
    "\n",
    "acc = accuracy_score(dev_result, dev_label)\n",
    "k = cohen_kappa_score(dev_result, dev_label, weights=\"quadratic\")\n",
    "print(\"正確率 = %.3f kappa = %.3f\" % (acc, k))\n",
    "print(classification_report(dev_label, dev_result))\n",
    "sns.heatmap(confusion_matrix(dev_label, dev_result), square=True, cbar=True, annot=True, cmap='Blues', fmt='d')"
   ]
  },
  {
   "cell_type": "code",
   "execution_count": 81,
   "id": "c020abb7-0e19-4449-a435-733ca6dffc95",
   "metadata": {},
   "outputs": [],
   "source": [
    "np.savetxt(outpath + \"v0.0.1_StepEstimator.txt\", test_result, fmt=\"%.0f\")"
   ]
  }
 ],
 "metadata": {
  "kernelspec": {
   "display_name": "Python 3 (ipykernel)",
   "language": "python",
   "name": "python3"
  },
  "language_info": {
   "codemirror_mode": {
    "name": "ipython",
    "version": 3
   },
   "file_extension": ".py",
   "mimetype": "text/x-python",
   "name": "python",
   "nbconvert_exporter": "python",
   "pygments_lexer": "ipython3",
   "version": "3.10.6"
  }
 },
 "nbformat": 4,
 "nbformat_minor": 5
}
